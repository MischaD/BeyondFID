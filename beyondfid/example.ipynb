{
 "cells": [
  {
   "cell_type": "markdown",
   "metadata": {},
   "source": [
    "# Example usage \n",
    "\n",
    "First we show how to use the package with paths. If you have three paths, one for train, one for test and one for your synthetic images, you are ready to go. "
   ]
  },
  {
   "cell_type": "code",
   "execution_count": 5,
   "metadata": {},
   "outputs": [
    {
     "name": "stdout",
     "output_type": "stream",
     "text": [
      "2024-09-05 19:28:41,131 | feature_computation.py-compute_features-0134 | INFO | Computing features for model: inception\n",
      "2024-09-05 19:28:41,133 | feature_computation.py-compute_features-0140 | INFO | Precomputing features of train data\n",
      "2024-09-05 19:28:41,187 | __init__.py-get_data_from_folder-0063 | INFO | 3396 files found for path /vol/ideadata/ed52egek/data/bci/data/trainA\n",
      "2024-09-05 19:28:41,188 | feature_computation.py-precompute_features_from_path-0126 | INFO | Precomputed feature tensor already found in: out/path/inception/hashdata_inception_8de8a4e5365fc8f6330167988e0767581a1b0404.pt\n",
      "2024-09-05 19:28:41,190 | feature_computation.py-compute_features-0143 | INFO | Precomputing features of test data\n",
      "2024-09-05 19:28:41,241 | __init__.py-get_data_from_folder-0063 | INFO | 3396 files found for path /vol/ideadata/ed52egek/data/bci/data/trainB\n",
      "2024-09-05 19:28:41,243 | feature_computation.py-precompute_features_from_path-0126 | INFO | Precomputed feature tensor already found in: out/path/inception/hashdata_inception_3e12659ffacbc8091133d84e7cd2eb01def695f6.pt\n",
      "2024-09-05 19:28:41,244 | feature_computation.py-compute_features-0146 | INFO | Precomputing features of synth data\n",
      "2024-09-05 19:28:41,259 | __init__.py-get_data_from_folder-0063 | INFO | 977 files found for path /vol/ideadata/ed52egek/data/bci/data/testA\n",
      "2024-09-05 19:28:41,261 | feature_computation.py-precompute_features_from_path-0126 | INFO | Precomputed feature tensor already found in: out/path/inception/hashdata_inception_1c98b4c9cb4103f80d39c0afd68f15d5ff8ed0d9.pt\n",
      "2024-09-05 19:28:41,262 | run.py-run-0109 | INFO | Computing metrics. Saving results to out/path/results.json\n",
      "2024-09-05 19:28:41,266 | run.py-run-0114 | INFO | Computing fid\n",
      "2024-09-05 19:28:50,578 | fid.py-_compute-0139 | WARNING | FID computation failed due to Imaginary component 5.937719083577361e+62\n",
      "2024-09-05 19:28:50,581 | fid.py-_compute-0140 | WARNING | Setting FID to -1\n",
      "2024-09-05 19:29:00,158 | fid.py-_compute-0139 | WARNING | FID computation failed due to Imaginary component 8.051993141091369e+61\n",
      "2024-09-05 19:29:00,160 | fid.py-_compute-0140 | WARNING | Setting FID to -1\n",
      "2024-09-05 19:29:00,173 | run.py-run-0114 | INFO | Computing prdc\n",
      "{'fid': -1}\n"
     ]
    }
   ],
   "source": [
    "\n",
    "from beyondfid.default_config import config \n",
    "from beyondfid.utils import update_config\n",
    "from beyondfid.run import run\n",
    "\n",
    "# decide what features to extract, run beyondfid -h for a full list, can be custom (see below)\n",
    "feature_extractors=\"inception\" \n",
    "\n",
    " # decide what metrics you want to compute, run beyonfid -h for a full list\n",
    "metrics =\"fid,prdc\"\n",
    "\n",
    "# update the config\n",
    "config = update_config(config, metrics=metrics, feature_extractors=feature_extractors) \n",
    "\n",
    "# manually set hyperparameters if necessary - full list is in beyondfid.default_config.py\n",
    "config.metrics.prdc.nearest_k = 3\n",
    "\n",
    "# path/to/synth can also be a generator function (see below)\n",
    "results = run(\"/vol/ideadata/ed52egek/data/bci/data/trainA\", \"/vol/ideadata/ed52egek/data/bci/data/trainB\", \"/vol/ideadata/ed52egek/data/bci/data/testA\", \"out/path\", \"results.json\", config) \n",
    "# results will also be saved to \"out/path/results.json\", all features as tensors to out/path/<model>/*.pt\n",
    "\n",
    "print(results[\"inception\"][\"fid_train\"]) # fid with inception features between synthetic and train dataset"
   ]
  },
  {
   "cell_type": "markdown",
   "metadata": {},
   "source": [
    "# How to use a custom feature extractor and a preloaded dataset"
   ]
  },
  {
   "cell_type": "code",
   "execution_count": 7,
   "metadata": {},
   "outputs": [
    {
     "name": "stdout",
     "output_type": "stream",
     "text": [
      "2024-09-05 19:31:25,945 | feature_computation.py-compute_features-0134 | INFO | Computing features for model: generic\n",
      "2024-09-05 19:31:25,948 | feature_computation.py-compute_features-0140 | INFO | Precomputing features of train data\n",
      "2024-09-05 19:31:25,950 | feature_computation.py-precompute_features_from_path-0111 | INFO | Computing features for generic and saving to ./.cache/generic/hashdata_generic_file_key_train.pt\n"
     ]
    },
    {
     "name": "stderr",
     "output_type": "stream",
     "text": [
      "100%|██████████| 1/1 [00:02<00:00,  2.45s/it]\n"
     ]
    },
    {
     "name": "stdout",
     "output_type": "stream",
     "text": [
      "2024-09-05 19:31:28,505 | feature_computation.py-compute_features-0143 | INFO | Precomputing features of test data\n",
      "2024-09-05 19:31:28,507 | feature_computation.py-precompute_features_from_path-0111 | INFO | Computing features for generic and saving to ./.cache/generic/hashdata_generic_file_key_test.pt\n"
     ]
    },
    {
     "name": "stderr",
     "output_type": "stream",
     "text": [
      "100%|██████████| 1/1 [00:01<00:00,  1.63s/it]\n"
     ]
    },
    {
     "name": "stdout",
     "output_type": "stream",
     "text": [
      "2024-09-05 19:31:30,217 | feature_computation.py-compute_features-0146 | INFO | Precomputing features of synth data\n",
      "2024-09-05 19:31:30,218 | feature_computation.py-precompute_features_from_path-0111 | INFO | Computing features for generic and saving to ./.cache/generic/hashdata_generic_file_key_gen.pt\n"
     ]
    },
    {
     "name": "stderr",
     "output_type": "stream",
     "text": [
      "100%|██████████| 1/1 [00:01<00:00,  1.75s/it]\n"
     ]
    },
    {
     "name": "stdout",
     "output_type": "stream",
     "text": [
      "2024-09-05 19:31:32,060 | run.py-run_generic-0092 | INFO | Computing fid\n",
      "2024-09-05 19:31:44,025 | fid.py-_compute-0139 | WARNING | FID computation failed due to Imaginary component 1.3304660443738239e+97\n",
      "2024-09-05 19:31:44,027 | fid.py-_compute-0140 | WARNING | Setting FID to -1\n",
      "2024-09-05 19:31:51,199 | fid.py-_compute-0139 | WARNING | FID computation failed due to Imaginary component 7.946414803329755e+102\n",
      "2024-09-05 19:31:51,201 | fid.py-_compute-0140 | WARNING | Setting FID to -1\n",
      "2024-09-05 19:31:51,202 | run.py-run_generic-0092 | INFO | Computing kid\n",
      "2024-09-05 19:31:51,316 | run.py-run_generic-0092 | INFO | Computing prdc\n",
      "{'fid': None, 'kid': None, 'prdc': {'generic': {'prdc_train': {'precision': 0.62, 'recall': 0.61, 'density': 1.1566666666666667, 'coverage': 0.97}, 'prdc_test': {'precision': 0.6, 'recall': 0.7, 'density': 1.1099999999999999, 'coverage': 0.94}}}}\n"
     ]
    }
   ],
   "source": [
    "from beyondfid.default_config import config \n",
    "from beyondfid.run import run_generic\n",
    "import torch # only for torch.randn\n",
    "\n",
    "# a callable object, takes 0-1 normalized (BxCxHxW) -> (BxF) and computes features \n",
    "forward_function = lambda x:  torch.randn((x.size()[0], 2048))\n",
    "\n",
    "train_images = {\"file_key_train\":torch.zeros((100, 3, 512, 512))} # key will be used to save features as tensor\n",
    "test_images = {\"file_key_test\":torch.zeros((100, 3, 512, 512))} \n",
    "generated_images = {\"file_key_gen\":torch.zeros((100, 3, 512, 512))} \n",
    "\n",
    "# define metrics you want to compute \n",
    "config.metric_list = \"fid,kid,prdc\" \n",
    "\n",
    "# (optional) set metric hyperparams -- see beyondfid/default_config.py for a full list\n",
    "config.metrics.prdc.nearest_k = 3 \n",
    "\n",
    "\n",
    "results = run_generic(train_images, test_images, generated_images, forward_function, config, output_path=\"./.cache/\")\n",
    "# Some metrics like FID, IS, KID, FLD do not need train and test data. Just set the same path twice. \n",
    "print(results)"
   ]
  },
  {
   "cell_type": "code",
   "execution_count": null,
   "metadata": {},
   "outputs": [],
   "source": []
  }
 ],
 "metadata": {
  "kernelspec": {
   "display_name": "Python 3",
   "language": "python",
   "name": "python3"
  },
  "language_info": {
   "codemirror_mode": {
    "name": "ipython",
    "version": 3
   },
   "file_extension": ".py",
   "mimetype": "text/x-python",
   "name": "python",
   "nbconvert_exporter": "python",
   "pygments_lexer": "ipython3",
   "version": "3.9.18"
  }
 },
 "nbformat": 4,
 "nbformat_minor": 2
}
